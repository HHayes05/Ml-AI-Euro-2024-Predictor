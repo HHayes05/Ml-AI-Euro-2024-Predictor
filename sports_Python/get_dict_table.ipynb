{
 "cells": [
  {
   "cell_type": "code",
   "execution_count": 2,
   "id": "17824af2-7b5e-4856-a112-0d0200718e8b",
   "metadata": {},
   "outputs": [],
   "source": [
    "import pandas as pd\n",
    "import pickle\n",
    "from string import ascii_uppercase as alphabet"
   ]
  },
  {
   "cell_type": "code",
   "execution_count": 3,
   "id": "cf7c655c-b72a-4d2c-afc2-d8aaee56a876",
   "metadata": {},
   "outputs": [],
   "source": [
    "all_tables = pd.read_html('https://web.archive.org/web/20240602150318/https://en.wikipedia.org/wiki/UEFA_Euro_2024')\n"
   ]
  },
  {
   "cell_type": "code",
   "execution_count": 4,
   "id": "f0a6019c-b3c8-485c-a3e9-39b5c821048c",
   "metadata": {},
   "outputs": [
    {
     "data": {
      "text/html": [
       "<div>\n",
       "<style scoped>\n",
       "    .dataframe tbody tr th:only-of-type {\n",
       "        vertical-align: middle;\n",
       "    }\n",
       "\n",
       "    .dataframe tbody tr th {\n",
       "        vertical-align: top;\n",
       "    }\n",
       "\n",
       "    .dataframe thead th {\n",
       "        text-align: right;\n",
       "    }\n",
       "</style>\n",
       "<table border=\"1\" class=\"dataframe\">\n",
       "  <thead>\n",
       "    <tr style=\"text-align: right;\">\n",
       "      <th></th>\n",
       "      <th>Pos</th>\n",
       "      <th>Teamvte</th>\n",
       "      <th>Pld</th>\n",
       "      <th>W</th>\n",
       "      <th>D</th>\n",
       "      <th>L</th>\n",
       "      <th>GF</th>\n",
       "      <th>GA</th>\n",
       "      <th>GD</th>\n",
       "      <th>Pts</th>\n",
       "      <th>Qualification</th>\n",
       "    </tr>\n",
       "  </thead>\n",
       "  <tbody>\n",
       "    <tr>\n",
       "      <th>0</th>\n",
       "      <td>1</td>\n",
       "      <td>Turkey</td>\n",
       "      <td>0</td>\n",
       "      <td>0</td>\n",
       "      <td>0</td>\n",
       "      <td>0</td>\n",
       "      <td>0</td>\n",
       "      <td>0</td>\n",
       "      <td>0</td>\n",
       "      <td>0</td>\n",
       "      <td>Advance to knockout stage</td>\n",
       "    </tr>\n",
       "    <tr>\n",
       "      <th>1</th>\n",
       "      <td>2</td>\n",
       "      <td>Georgia</td>\n",
       "      <td>0</td>\n",
       "      <td>0</td>\n",
       "      <td>0</td>\n",
       "      <td>0</td>\n",
       "      <td>0</td>\n",
       "      <td>0</td>\n",
       "      <td>0</td>\n",
       "      <td>0</td>\n",
       "      <td>Advance to knockout stage</td>\n",
       "    </tr>\n",
       "    <tr>\n",
       "      <th>2</th>\n",
       "      <td>3</td>\n",
       "      <td>Portugal</td>\n",
       "      <td>0</td>\n",
       "      <td>0</td>\n",
       "      <td>0</td>\n",
       "      <td>0</td>\n",
       "      <td>0</td>\n",
       "      <td>0</td>\n",
       "      <td>0</td>\n",
       "      <td>0</td>\n",
       "      <td>Possible knockout stage based on ranking</td>\n",
       "    </tr>\n",
       "    <tr>\n",
       "      <th>3</th>\n",
       "      <td>4</td>\n",
       "      <td>Czech Republic</td>\n",
       "      <td>0</td>\n",
       "      <td>0</td>\n",
       "      <td>0</td>\n",
       "      <td>0</td>\n",
       "      <td>0</td>\n",
       "      <td>0</td>\n",
       "      <td>0</td>\n",
       "      <td>0</td>\n",
       "      <td>NaN</td>\n",
       "    </tr>\n",
       "  </tbody>\n",
       "</table>\n",
       "</div>"
      ],
      "text/plain": [
       "   Pos         Teamvte  Pld  W  D  L  GF  GA  GD  Pts  \\\n",
       "0    1          Turkey    0  0  0  0   0   0   0    0   \n",
       "1    2         Georgia    0  0  0  0   0   0   0    0   \n",
       "2    3        Portugal    0  0  0  0   0   0   0    0   \n",
       "3    4  Czech Republic    0  0  0  0   0   0   0    0   \n",
       "\n",
       "                              Qualification  \n",
       "0                 Advance to knockout stage  \n",
       "1                 Advance to knockout stage  \n",
       "2  Possible knockout stage based on ranking  \n",
       "3                                       NaN  "
      ]
     },
     "execution_count": 4,
     "metadata": {},
     "output_type": "execute_result"
    }
   ],
   "source": [
    "all_tables[19]\n",
    "all_tables[26]\n",
    "all_tables[33]\n",
    "all_tables[40]\n",
    "all_tables[47]\n",
    "all_tables[54]"
   ]
  },
  {
   "cell_type": "code",
   "execution_count": 5,
   "id": "13c705b8-7ab0-4873-ad2d-0bfefec7b3f5",
   "metadata": {},
   "outputs": [
    {
     "data": {
      "text/plain": [
       "'Pts'"
      ]
     },
     "execution_count": 5,
     "metadata": {},
     "output_type": "execute_result"
    }
   ],
   "source": [
    "alphabet\n",
    "all_tables[19].columns[9]"
   ]
  },
  {
   "cell_type": "code",
   "execution_count": 6,
   "id": "4863e8fd-0b15-413f-b5ce-ddbb43e021eb",
   "metadata": {},
   "outputs": [],
   "source": [
    "all_tables = pd.read_html('https://web.archive.org/web/20240602150318/https://en.wikipedia.org/wiki/UEFA_Euro_2024')\n",
    "dict_table = {}\n",
    "for letter, i in zip(alphabet, range(19, 61, 7)):\n",
    "    df=all_tables[i]\n",
    "    df.rename(columns={df.columns[1] : 'Team'}, inplace=True)\n",
    "    df.pop('Qualification')\n",
    "    dict_table[f'Group {letter}'] = df\n",
    "\n",
    "    \n"
   ]
  },
  {
   "cell_type": "code",
   "execution_count": 7,
   "id": "bb88b8b6-61cc-4e96-a9cd-3aa30711da6a",
   "metadata": {},
   "outputs": [
    {
     "data": {
      "text/plain": [
       "dict_keys(['Group A', 'Group B', 'Group C', 'Group D', 'Group E', 'Group F'])"
      ]
     },
     "execution_count": 7,
     "metadata": {},
     "output_type": "execute_result"
    }
   ],
   "source": [
    "dict_table.keys()\n"
   ]
  },
  {
   "cell_type": "code",
   "execution_count": 8,
   "id": "fb1fd7e7-008d-4eb0-82ab-9b93ce640c43",
   "metadata": {},
   "outputs": [],
   "source": [
    "with open('dict_table', 'wb') as output:\n",
    "    pickle.dump(dict_table, output)"
   ]
  },
  {
   "cell_type": "code",
   "execution_count": 9,
   "id": "c2bf9676-1c30-439e-8a48-9ce664475e5c",
   "metadata": {},
   "outputs": [
    {
     "data": {
      "text/plain": [
       "{'Group A':    Pos         Team  Pld  W  D  L  GF  GA  GD  Pts\n",
       " 0    1  Germany (H)    0  0  0  0   0   0   0    0\n",
       " 1    2     Scotland    0  0  0  0   0   0   0    0\n",
       " 2    3      Hungary    0  0  0  0   0   0   0    0\n",
       " 3    4  Switzerland    0  0  0  0   0   0   0    0,\n",
       " 'Group B':    Pos     Team  Pld  W  D  L  GF  GA  GD  Pts\n",
       " 0    1    Spain    0  0  0  0   0   0   0    0\n",
       " 1    2  Croatia    0  0  0  0   0   0   0    0\n",
       " 2    3    Italy    0  0  0  0   0   0   0    0\n",
       " 3    4  Albania    0  0  0  0   0   0   0    0,\n",
       " 'Group C':    Pos      Team  Pld  W  D  L  GF  GA  GD  Pts\n",
       " 0    1  Slovenia    0  0  0  0   0   0   0    0\n",
       " 1    2   Denmark    0  0  0  0   0   0   0    0\n",
       " 2    3    Serbia    0  0  0  0   0   0   0    0\n",
       " 3    4   England    0  0  0  0   0   0   0    0,\n",
       " 'Group D':    Pos         Team  Pld  W  D  L  GF  GA  GD  Pts\n",
       " 0    1       Poland    0  0  0  0   0   0   0    0\n",
       " 1    2  Netherlands    0  0  0  0   0   0   0    0\n",
       " 2    3      Austria    0  0  0  0   0   0   0    0\n",
       " 3    4       France    0  0  0  0   0   0   0    0,\n",
       " 'Group E':    Pos      Team  Pld  W  D  L  GF  GA  GD  Pts\n",
       " 0    1   Belgium    0  0  0  0   0   0   0    0\n",
       " 1    2  Slovakia    0  0  0  0   0   0   0    0\n",
       " 2    3   Romania    0  0  0  0   0   0   0    0\n",
       " 3    4   Ukraine    0  0  0  0   0   0   0    0,\n",
       " 'Group F':    Pos            Team  Pld  W  D  L  GF  GA  GD  Pts\n",
       " 0    1          Turkey    0  0  0  0   0   0   0    0\n",
       " 1    2         Georgia    0  0  0  0   0   0   0    0\n",
       " 2    3        Portugal    0  0  0  0   0   0   0    0\n",
       " 3    4  Czech Republic    0  0  0  0   0   0   0    0}"
      ]
     },
     "execution_count": 9,
     "metadata": {},
     "output_type": "execute_result"
    }
   ],
   "source": [
    "dict_table"
   ]
  },
  {
   "cell_type": "code",
   "execution_count": null,
   "id": "60b59bda-94df-4b11-9f31-3e63aa12c69f",
   "metadata": {},
   "outputs": [],
   "source": []
  },
  {
   "cell_type": "code",
   "execution_count": null,
   "id": "63935326-a068-489d-90fe-eee398806fd6",
   "metadata": {},
   "outputs": [],
   "source": []
  }
 ],
 "metadata": {
  "kernelspec": {
   "display_name": "Python 3 (ipykernel)",
   "language": "python",
   "name": "python3"
  },
  "language_info": {
   "codemirror_mode": {
    "name": "ipython",
    "version": 3
   },
   "file_extension": ".py",
   "mimetype": "text/x-python",
   "name": "python",
   "nbconvert_exporter": "python",
   "pygments_lexer": "ipython3",
   "version": "3.11.4"
  }
 },
 "nbformat": 4,
 "nbformat_minor": 5
}
